{
 "cells": [
  {
   "cell_type": "markdown",
   "id": "3d8e57fe",
   "metadata": {},
   "source": [
    "# **UTP – Methods: Optics**"
   ]
  },
  {
   "cell_type": "code",
   "execution_count": null,
   "id": "38982780",
   "metadata": {},
   "outputs": [],
   "source": [
    "import matplotlib.pyplot as plt\n",
    "import numpy as np"
   ]
  },
  {
   "cell_type": "markdown",
   "id": "71561f30",
   "metadata": {},
   "source": [
    "## Out-of-contact method"
   ]
  },
  {
   "cell_type": "code",
   "execution_count": null,
   "id": "143d1dec",
   "metadata": {},
   "outputs": [],
   "source": [
    "# Define the variable values (in cm) used for solving the quadratic\n",
    "# equation in u. \n",
    "f_1 = float(input(\"f_1 = \"))  # large convex lens\n",
    "f_2 = float(input(\"f_2 = \"))  # concave lens\n",
    "y_m = 85  # maximum value for u + d\n",
    "\n",
    "print(f_1, f_2, y_m)"
   ]
  },
  {
   "cell_type": "code",
   "execution_count": null,
   "id": "9f39b651",
   "metadata": {},
   "outputs": [],
   "source": [
    "# Calculate the solutions of the quadratic equation in u.\n",
    "delta = (f_2 - y_m)**2 - 4 * f_1 * (y_m - f_2)  # discriminant\n",
    "u_pos = (-(f_2 - y_m) + np.sqrt(delta)) / 2\n",
    "u_neg = (-(f_2 - y_m) - np.sqrt(delta)) / 2"
   ]
  },
  {
   "cell_type": "code",
   "execution_count": null,
   "id": "3305bc57",
   "metadata": {},
   "outputs": [],
   "source": [
    "print(\"discriminant = \" f\"{delta}\" \" cm^2\")\n",
    "print(\"Note that the discriminant should be > 0 to get two real solutions.\")\n",
    "print(\"u_pos = \" f\"{u_pos:.2f}\" \" cm\") \n",
    "print(\"u_neg = \" f\"{u_neg:.2f}\" \" cm\") "
   ]
  },
  {
   "cell_type": "code",
   "execution_count": null,
   "id": "da93e02f",
   "metadata": {},
   "outputs": [],
   "source": [
    "# Generate a vector of u values.\n",
    "x_model = np.linspace(\n",
    "    start=f_1 + 1, stop=100, num=1000\n",
    "    )\n",
    "\n",
    "# Calculate the u + d values for the u values generated above.\n",
    "y_model = f_2 + (x_model * f_1) / (x_model - f_1) + x_model\n",
    "\n",
    "# Plot u + d = f(u).\n",
    "fig = plt.figure()\n",
    "x_label = \"$u$ (cm)\"\n",
    "y_label = \"$u + d$ (cm)\"\n",
    "plt.xlabel(x_label)\n",
    "plt.ylabel(y_label)\n",
    "plt.ylim(60, 100)\n",
    "# plt.grid()\n",
    "\n",
    "model_label = \"$u+d = f(u)$\"\n",
    "plt.plot(x_model, y_model, color='#377eb8', linestyle='-', label=model_label)\n",
    "\n",
    "# Plot the maximum value for u + d.\n",
    "plt.axhline(y_m, color='#984ea3', linestyle='--', label='$\\max(u + d)$')\n",
    "\n",
    "# Plot the solutions of the quadratic equation in u.\n",
    "plt.axvline(\n",
    "    u_pos, linestyle=':', color='#4daf4a', linewidth=2,\n",
    "    label='$u_+$ (maximum value)'\n",
    "    )\n",
    "plt.axvline(\n",
    "    u_neg, linestyle=':', color='#ff7f00', linewidth=2,\n",
    "    label='$u_-$ (minimum value)'\n",
    "    )\n",
    "\n",
    "plt.title(\n",
    "    \"$u + d$ as a function of $u$ with quadratic solutions for $u$\"\n",
    "    \"\\n ($f_1 =\" + str(f_1) + \"$ cm, $f_2 =\" + str(f_2) + \"$ cm)\"\n",
    "    )\n",
    "plt.legend(loc='best')\n",
    "\n",
    "plt.tight_layout()  # adjust the padding between and around plots\n",
    "plt.show()"
   ]
  }
 ],
 "metadata": {
  "kernelspec": {
   "display_name": "phys119",
   "language": "python",
   "name": "python3"
  },
  "language_info": {
   "codemirror_mode": {
    "name": "ipython",
    "version": 3
   },
   "file_extension": ".py",
   "mimetype": "text/x-python",
   "name": "python",
   "nbconvert_exporter": "python",
   "pygments_lexer": "ipython3",
   "version": "3.10.16"
  }
 },
 "nbformat": 4,
 "nbformat_minor": 5
}
